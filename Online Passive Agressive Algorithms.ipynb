{
 "cells": [
  {
   "cell_type": "code",
   "execution_count": 33,
   "metadata": {},
   "outputs": [],
   "source": [
    "import numpy as np\n",
    "import pandas as pd\n",
    "import time\n",
    "from sklearn.datasets import load_svmlight_file"
   ]
  },
  {
   "cell_type": "markdown",
   "metadata": {},
   "source": [
    "# a9a dataset"
   ]
  },
  {
   "cell_type": "markdown",
   "metadata": {},
   "source": [
    "## Loading the dataset"
   ]
  },
  {
   "cell_type": "markdown",
   "metadata": {},
   "source": [
    "### Training set"
   ]
  },
  {
   "cell_type": "code",
   "execution_count": 4,
   "metadata": {},
   "outputs": [
    {
     "name": "stdout",
     "output_type": "stream",
     "text": [
      "  (0, 2)\t1.0\n",
      "  (0, 10)\t1.0\n",
      "  (0, 13)\t1.0\n",
      "  (0, 18)\t1.0\n",
      "  (0, 38)\t1.0\n",
      "  (0, 41)\t1.0\n",
      "  (0, 54)\t1.0\n",
      "  (0, 63)\t1.0\n",
      "  (0, 66)\t1.0\n",
      "  (0, 72)\t1.0\n",
      "  (0, 74)\t1.0\n",
      "  (0, 75)\t1.0\n",
      "  (0, 79)\t1.0\n",
      "  (0, 82)\t1.0\n",
      "  (1, 4)\t1.0\n",
      "  (1, 6)\t1.0\n",
      "  (1, 13)\t1.0\n",
      "  (1, 18)\t1.0\n",
      "  (1, 38)\t1.0\n",
      "  (1, 39)\t1.0\n",
      "  (1, 50)\t1.0\n",
      "  (1, 62)\t1.0\n",
      "  (1, 66)\t1.0\n",
      "  (1, 72)\t1.0\n",
      "  (1, 73)\t1.0\n",
      "  :\t:\n",
      "  (32559, 21)\t1.0\n",
      "  (32559, 35)\t1.0\n",
      "  (32559, 41)\t1.0\n",
      "  (32559, 54)\t1.0\n",
      "  (32559, 61)\t1.0\n",
      "  (32559, 66)\t1.0\n",
      "  (32559, 72)\t1.0\n",
      "  (32559, 73)\t1.0\n",
      "  (32559, 75)\t1.0\n",
      "  (32559, 77)\t1.0\n",
      "  (32559, 82)\t1.0\n",
      "  (32560, 4)\t1.0\n",
      "  (32560, 7)\t1.0\n",
      "  (32560, 17)\t1.0\n",
      "  (32560, 21)\t1.0\n",
      "  (32560, 35)\t1.0\n",
      "  (32560, 39)\t1.0\n",
      "  (32560, 50)\t1.0\n",
      "  (32560, 60)\t1.0\n",
      "  (32560, 66)\t1.0\n",
      "  (32560, 71)\t1.0\n",
      "  (32560, 74)\t1.0\n",
      "  (32560, 75)\t1.0\n",
      "  (32560, 79)\t1.0\n",
      "  (32560, 82)\t1.0\n"
     ]
    }
   ],
   "source": [
    "def get_data(file):\n",
    "    data = load_svmlight_file(file)\n",
    "    return data[0], data[1]\n",
    "\n",
    "X, y = get_data(\"a9a\")\n",
    "print(X)"
   ]
  },
  {
   "cell_type": "code",
   "execution_count": 21,
   "metadata": {},
   "outputs": [
    {
     "name": "stdout",
     "output_type": "stream",
     "text": [
      "[[0. 0. 1. ... 0. 0. 0.]\n",
      " [0. 0. 0. ... 0. 0. 0.]\n",
      " [0. 0. 1. ... 0. 0. 0.]\n",
      " ...\n",
      " [0. 0. 0. ... 0. 0. 0.]\n",
      " [1. 0. 0. ... 0. 0. 0.]\n",
      " [0. 0. 0. ... 0. 0. 0.]]\n",
      "[-1. -1. -1. ... -1. -1.  1.]\n",
      "(32561, 123)\n"
     ]
    }
   ],
   "source": [
    "# Changing X from sparse representation to standard array\n",
    "X_train = X.toarray()\n",
    "y_train = y\n",
    "print(X_train)\n",
    "print(y_train)\n",
    "print(X_train.shape)"
   ]
  },
  {
   "cell_type": "markdown",
   "metadata": {},
   "source": [
    "### Test set"
   ]
  },
  {
   "cell_type": "code",
   "execution_count": 20,
   "metadata": {},
   "outputs": [
    {
     "name": "stdout",
     "output_type": "stream",
     "text": [
      "[[1. 0. 0. ... 0. 0. 0.]\n",
      " [0. 0. 1. ... 0. 0. 0.]\n",
      " [0. 1. 0. ... 0. 0. 0.]\n",
      " ...\n",
      " [0. 0. 1. ... 0. 0. 0.]\n",
      " [0. 0. 0. ... 0. 0. 0.]\n",
      " [0. 0. 1. ... 0. 0. 0.]]\n",
      "[-1. -1.  1. ... -1. -1.  1.]\n",
      "(16281, 122)\n"
     ]
    }
   ],
   "source": [
    "X_test, y_test = get_data(\"a9a.t\")\n",
    "X_test = X_test.toarray()\n",
    "print(X_test)\n",
    "print(y_test)\n",
    "print(X_test.shape)"
   ]
  },
  {
   "cell_type": "markdown",
   "metadata": {},
   "source": [
    "## Preprocessing"
   ]
  },
  {
   "cell_type": "code",
   "execution_count": 23,
   "metadata": {},
   "outputs": [],
   "source": [
    "from sklearn.decomposition import PCA\n",
    "\n",
    "pca = PCA(n_components=14)"
   ]
  },
  {
   "cell_type": "markdown",
   "metadata": {},
   "source": [
    "### Traning data"
   ]
  },
  {
   "cell_type": "code",
   "execution_count": 24,
   "metadata": {},
   "outputs": [
    {
     "data": {
      "text/plain": [
       "array([[ 0.23239737, -0.68819295,  0.85667136, ...,  0.02148147,\n",
       "         0.15861185,  0.389433  ],\n",
       "       [-1.20662065, -0.85959757,  0.616277  , ...,  0.06610164,\n",
       "         0.4327976 , -0.28969152],\n",
       "       [ 0.2116386 ,  1.22573661,  0.17644706, ...,  0.69390972,\n",
       "        -0.56824374,  0.41972188],\n",
       "       ...,\n",
       "       [ 0.74332647,  1.26675186,  0.60426759, ..., -0.11812197,\n",
       "        -0.10765446,  0.24485983],\n",
       "       [ 0.87047487,  0.93608506, -0.76327228, ...,  0.74868369,\n",
       "        -0.29233675,  0.04465699],\n",
       "       [-0.12202918,  0.93561235,  0.72740491, ..., -0.39892826,\n",
       "        -0.18836753, -0.8295538 ]])"
      ]
     },
     "execution_count": 24,
     "metadata": {},
     "output_type": "execute_result"
    }
   ],
   "source": [
    "X_train_reduced = pca.fit_transform(X_train)\n",
    "X_train_reduced"
   ]
  },
  {
   "cell_type": "markdown",
   "metadata": {},
   "source": [
    "### Testing set"
   ]
  },
  {
   "cell_type": "code",
   "execution_count": 25,
   "metadata": {},
   "outputs": [
    {
     "data": {
      "text/plain": [
       "array([[ 0.81663618,  0.02498892, -0.87664761, ..., -0.34917539,\n",
       "         0.57748621, -0.03951886],\n",
       "       [-1.16837675,  0.91244668, -0.10008568, ...,  0.05053122,\n",
       "         0.1504557 , -0.2789483 ],\n",
       "       [-0.9721929 , -0.19001809, -0.19611116, ...,  0.06833835,\n",
       "        -0.32440394,  0.03113935],\n",
       "       ...,\n",
       "       [-1.26055427, -0.86482666,  0.62352845, ..., -0.1280389 ,\n",
       "        -0.16634468, -0.14126516],\n",
       "       [ 0.06726798, -0.51248111,  0.70476954, ...,  0.6600293 ,\n",
       "        -0.46138724, -0.14651061],\n",
       "       [-1.38988745, -0.90240615,  0.70796896, ..., -0.64109149,\n",
       "         0.0622353 ,  0.65524468]])"
      ]
     },
     "execution_count": 25,
     "metadata": {},
     "output_type": "execute_result"
    }
   ],
   "source": [
    "X_test_reduced = pca.fit_transform(X_test)\n",
    "X_test_reduced"
   ]
  },
  {
   "cell_type": "markdown",
   "metadata": {},
   "source": [
    "## Applying passive agressive online learning"
   ]
  },
  {
   "cell_type": "code",
   "execution_count": 16,
   "metadata": {},
   "outputs": [],
   "source": [
    "from sklearn.metrics import accuracy_score\n",
    "from passive_agressive_classic_update import passive_agressive_online"
   ]
  },
  {
   "cell_type": "markdown",
   "metadata": {},
   "source": [
    "### Classic update"
   ]
  },
  {
   "cell_type": "code",
   "execution_count": 26,
   "metadata": {},
   "outputs": [
    {
     "data": {
      "text/plain": [
       "array([-0.81809909, -0.23873789,  0.32811158, -0.15514349, -0.39851645,\n",
       "       -0.18825116, -0.82564869, -1.4156379 , -0.24369112, -0.84731157,\n",
       "       -0.40837704, -1.04690991, -1.05513819,  0.12503183])"
      ]
     },
     "execution_count": 26,
     "metadata": {},
     "output_type": "execute_result"
    }
   ],
   "source": [
    "w_classic = passive_agressive_online(X_train_reduced, y_train, impl=\"classic\")\n",
    "w_classic"
   ]
  },
  {
   "cell_type": "code",
   "execution_count": 27,
   "metadata": {},
   "outputs": [
    {
     "name": "stdout",
     "output_type": "stream",
     "text": [
      "64.81\n"
     ]
    }
   ],
   "source": [
    "# Accuracy on the training set\n",
    "predicted = np.sign(np.dot(X_train_reduced, w_classic))\n",
    "accuracy = accuracy_score(predicted, y_train)\n",
    "print(\"%.2f\" % (accuracy*100))"
   ]
  },
  {
   "cell_type": "markdown",
   "metadata": {},
   "source": [
    "Classic update is barely better than random guessing (64.81%). It's not an outstanding performance. Let's have a look at the test performance"
   ]
  },
  {
   "cell_type": "code",
   "execution_count": 29,
   "metadata": {},
   "outputs": [
    {
     "name": "stdout",
     "output_type": "stream",
     "text": [
      "65.23\n"
     ]
    }
   ],
   "source": [
    "# Accuracy on the test set\n",
    "predicted = np.sign(np.dot(X_test_reduced, w_classic))\n",
    "accuracy = accuracy_score(predicted, y_test)\n",
    "print(\"%.2f\" % (accuracy*100))"
   ]
  },
  {
   "cell_type": "markdown",
   "metadata": {},
   "source": [
    "Classic update has a performance close to its training data performanced on unseen data as well (65.23%). Might it be underfitting?\n",
    "Let's have a look at first relaxation"
   ]
  },
  {
   "cell_type": "markdown",
   "metadata": {},
   "source": [
    "### First relaxation"
   ]
  },
  {
   "cell_type": "code",
   "execution_count": 32,
   "metadata": {},
   "outputs": [
    {
     "data": {
      "text/plain": [
       "[1e-15,\n",
       " 1e-14,\n",
       " 1e-13,\n",
       " 1e-12,\n",
       " 1e-11,\n",
       " 1e-10,\n",
       " 1e-09,\n",
       " 1e-08,\n",
       " 1e-07,\n",
       " 1e-06,\n",
       " 1e-05,\n",
       " 0.0001,\n",
       " 0.001,\n",
       " 0.01,\n",
       " 0.1,\n",
       " 1]"
      ]
     },
     "execution_count": 32,
     "metadata": {},
     "output_type": "execute_result"
    }
   ],
   "source": [
    "# Generating C values\n",
    "C = []\n",
    "for i in range(-15, 1):\n",
    "    C.append(10**i)\n",
    "C"
   ]
  },
  {
   "cell_type": "code",
   "execution_count": 39,
   "metadata": {},
   "outputs": [
    {
     "name": "stdout",
     "output_type": "stream",
     "text": [
      "[[0.7076616  0.70684889 0.71114865 0.71038084 0.7105344 ]\n",
      " [0.7076616  0.70684889 0.71114865 0.71038084 0.7105344 ]\n",
      " [0.7076616  0.70684889 0.71114865 0.71038084 0.7105344 ]\n",
      " [0.7076616  0.70684889 0.71114865 0.71038084 0.7105344 ]\n",
      " [0.7076616  0.70684889 0.71114865 0.71038084 0.7105344 ]\n",
      " [0.7076616  0.70684889 0.71114865 0.71038084 0.7105344 ]\n",
      " [0.7076616  0.70684889 0.71114865 0.71038084 0.7105344 ]\n",
      " [0.7076616  0.70684889 0.71114865 0.71038084 0.7105344 ]\n",
      " [0.7076616  0.70684889 0.71114865 0.71038084 0.7105344 ]\n",
      " [0.7076616  0.70684889 0.71114865 0.71038084 0.7105344 ]\n",
      " [0.7076616  0.70684889 0.71114865 0.71038084 0.7105344 ]\n",
      " [0.71150008 0.71022727 0.71283784 0.71268428 0.71268428]\n",
      " [0.71027176 0.70669533 0.70823096 0.71022727 0.70715602]\n",
      " [0.71242131 0.70884521 0.71022727 0.71114865 0.70408477]\n",
      " [0.69491786 0.68596437 0.69195332 0.69963145 0.68212531]\n",
      " [0.65392292 0.64404177 0.63835995 0.65433047 0.64189189]]\n",
      "[[1.82618523 1.80763674 1.78003359 1.91355038 1.8363235 ]\n",
      " [2.12645078 1.84785223 1.77980208 2.26028776 1.83995199]\n",
      " [1.88397121 1.81632948 2.040169   1.88046074 1.85015106]\n",
      " [1.79337049 1.78883147 1.78354621 1.87958646 1.88967776]\n",
      " [1.7801156  1.78117633 1.78642631 1.94935918 1.95032287]\n",
      " [1.89055204 1.87909293 1.80009866 1.84166908 1.85018468]\n",
      " [1.80337    1.78501034 1.95060182 1.88278651 1.85080171]\n",
      " [1.78645086 1.78604245 1.79293084 1.85647297 1.7905705 ]\n",
      " [1.78987551 1.79992414 1.81692386 1.85016227 1.77600026]\n",
      " [1.85620189 1.80021548 1.79994512 1.89988184 1.78043199]\n",
      " [1.87819386 1.80021954 1.80025125 1.81006956 1.76993704]\n",
      " [2.12187862 1.7899816  1.78627133 1.97993016 1.86013317]\n",
      " [1.91387963 1.78624964 1.79370356 1.8486824  1.83010745]\n",
      " [1.80043817 1.78375745 1.80043697 1.80351615 1.80996132]\n",
      " [1.80992079 1.77658606 1.93984485 1.83007765 1.90389299]\n",
      " [1.83350801 1.79679585 2.05398726 1.85671139 1.84975266]]\n"
     ]
    }
   ],
   "source": [
    "from sklearn.metrics import accuracy_score\n",
    "from sklearn.model_selection import KFold\n",
    "\n",
    "kf = KFold(n_splits=5)\n",
    "C_scores = np.zeros((len(C), 5))\n",
    "C_times = np.zeros((len(C), 5))\n",
    "current_fold = 0\n",
    "for train, test in kf.split(X_train_reduced):\n",
    "    X_train, X_test, y_train_kf, y_test_kf = X_train_reduced[train], X_train_reduced[test], y_train[train], y_train[test]\n",
    "    for i in range(len(C)):\n",
    "        begin = time.time()\n",
    "        w_relax1 = passive_agressive_online(X_train, y_train_kf, impl=\"relax1\", C=C[i])\n",
    "        end = time.time()\n",
    "        predicted = np.sign(np.dot(X_test, w_relax1))\n",
    "        accuracy = accuracy_score(predicted, y_test_kf)\n",
    "        C_scores[i, current_fold] = accuracy\n",
    "        C_times[i, current_fold] = end - begin\n",
    "    current_fold += 1\n",
    "print(C_scores)\n",
    "print(C_times)"
   ]
  },
  {
   "cell_type": "code",
   "execution_count": 53,
   "metadata": {},
   "outputs": [
    {
     "name": "stdout",
     "output_type": "stream",
     "text": [
      "[0.70931488 0.70931488 0.70931488 0.70931488 0.70931488 0.70931488\n",
      " 0.70931488 0.70931488 0.70931488 0.70931488 0.70931488 0.71198675\n",
      " 0.70851627 0.70934544 0.69091846 0.6465094 ]\n",
      "The best value for the parameter C is: 0.0001\n",
      "Its average accuracy is 71.20\n",
      "The average running time of passive-agressive approach first relaxation with parameter C = 0.0001 is 1.91 s\n"
     ]
    }
   ],
   "source": [
    "# Selecting the C with the best average accuracy\n",
    "C_scores_avg = np.mean(C_scores, axis=1)\n",
    "C_times_avg = np.mean(C_times, axis=1)\n",
    "print(C_scores_avg)\n",
    "best_index = np.argmax(C_scores_avg)\n",
    "print(\"The best value for the parameter C is:\", C[best_index])\n",
    "print(\"Its average accuracy is %.2f\" % (C_scores_avg[best_index]*100))\n",
    "print(\"The average running time of passive-agressive approach first relaxation with parameter C =\", C[best_index],\n",
    "     \"is %.2f s\" % C_times_avg[best_index])"
   ]
  },
  {
   "cell_type": "markdown",
   "metadata": {},
   "source": [
    "The first relaxation with C=0.0001 has a good accuracy on the cross-validation set (averaging 71.2%) but at the expense of a higher running time (1.91s on average)."
   ]
  },
  {
   "cell_type": "code",
   "execution_count": null,
   "metadata": {},
   "outputs": [],
   "source": [
    "# Use it on test set\n",
    "predicted = np.sign(np.)"
   ]
  }
 ],
 "metadata": {
  "kernelspec": {
   "display_name": "Python 3",
   "language": "python",
   "name": "python3"
  },
  "language_info": {
   "codemirror_mode": {
    "name": "ipython",
    "version": 3
   },
   "file_extension": ".py",
   "mimetype": "text/x-python",
   "name": "python",
   "nbconvert_exporter": "python",
   "pygments_lexer": "ipython3",
   "version": "3.6.5"
  }
 },
 "nbformat": 4,
 "nbformat_minor": 2
}
