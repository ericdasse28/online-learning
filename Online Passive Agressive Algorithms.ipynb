{
 "cells": [
  {
   "cell_type": "code",
   "execution_count": 20,
   "metadata": {},
   "outputs": [],
   "source": [
    "import numpy as np\n",
    "import pandas as pd\n",
    "from sklearn.datasets import load_svmlight_file"
   ]
  },
  {
   "cell_type": "markdown",
   "metadata": {},
   "source": [
    "# Madelon dataset"
   ]
  },
  {
   "cell_type": "markdown",
   "metadata": {},
   "source": [
    "## Loading the dataset"
   ]
  },
  {
   "cell_type": "markdown",
   "metadata": {},
   "source": [
    "### Training set"
   ]
  },
  {
   "cell_type": "code",
   "execution_count": 39,
   "metadata": {},
   "outputs": [
    {
     "name": "stdout",
     "output_type": "stream",
     "text": [
      "  (0, 5)\t1.0\n",
      "  (0, 7)\t1.0\n",
      "  (0, 14)\t1.0\n",
      "  (0, 20)\t1.0\n",
      "  (0, 28)\t1.0\n",
      "  (0, 32)\t1.0\n",
      "  (0, 33)\t1.0\n",
      "  (0, 36)\t1.0\n",
      "  (0, 41)\t1.0\n",
      "  (0, 49)\t1.0\n",
      "  (0, 52)\t1.0\n",
      "  (0, 56)\t1.0\n",
      "  (0, 66)\t1.0\n",
      "  (0, 75)\t1.0\n",
      "  (0, 77)\t1.0\n",
      "  (0, 80)\t1.0\n",
      "  (0, 83)\t1.0\n",
      "  (0, 85)\t1.0\n",
      "  (0, 92)\t1.0\n",
      "  (0, 102)\t1.0\n",
      "  (0, 110)\t1.0\n",
      "  (1, 5)\t1.0\n",
      "  (1, 7)\t1.0\n",
      "  (1, 19)\t1.0\n",
      "  (1, 20)\t1.0\n",
      "  :\t:\n",
      "  (8122, 87)\t1.0\n",
      "  (8122, 97)\t1.0\n",
      "  (8122, 103)\t1.0\n",
      "  (8122, 108)\t1.0\n",
      "  (8123, 5)\t1.0\n",
      "  (8123, 7)\t1.0\n",
      "  (8123, 14)\t1.0\n",
      "  (8123, 21)\t1.0\n",
      "  (8123, 27)\t1.0\n",
      "  (8123, 31)\t1.0\n",
      "  (8123, 33)\t1.0\n",
      "  (8123, 35)\t1.0\n",
      "  (8123, 48)\t1.0\n",
      "  (8123, 49)\t1.0\n",
      "  (8123, 52)\t1.0\n",
      "  (8123, 56)\t1.0\n",
      "  (8123, 63)\t1.0\n",
      "  (8123, 72)\t1.0\n",
      "  (8123, 77)\t1.0\n",
      "  (8123, 79)\t1.0\n",
      "  (8123, 83)\t1.0\n",
      "  (8123, 85)\t1.0\n",
      "  (8123, 93)\t1.0\n",
      "  (8123, 100)\t1.0\n",
      "  (8123, 108)\t1.0\n"
     ]
    }
   ],
   "source": [
    "def get_data(file):\n",
    "    data = load_svmlight_file(file)\n",
    "    return data[0], data[1]\n",
    "\n",
    "X, y = get_data(\"madelon.txt\")\n",
    "print(X)"
   ]
  },
  {
   "cell_type": "code",
   "execution_count": 19,
   "metadata": {},
   "outputs": [
    {
     "data": {
      "text/plain": [
       "array([[0., 0., 0., ..., 0., 1., 0.],\n",
       "       [0., 0., 0., ..., 0., 0., 0.],\n",
       "       [0., 1., 0., ..., 0., 0., 0.],\n",
       "       ...,\n",
       "       [0., 0., 1., ..., 0., 0., 0.],\n",
       "       [0., 0., 0., ..., 0., 0., 0.],\n",
       "       [0., 0., 0., ..., 0., 0., 0.]])"
      ]
     },
     "execution_count": 19,
     "metadata": {},
     "output_type": "execute_result"
    }
   ],
   "source": [
    "# Changing X from sparse representation to standard array\n",
    "X_train = X.toarray()\n",
    "X_train"
   ]
  },
  {
   "cell_type": "markdown",
   "metadata": {},
   "source": [
    "### Test set"
   ]
  },
  {
   "cell_type": "code",
   "execution_count": 42,
   "metadata": {},
   "outputs": [
    {
     "name": "stdout",
     "output_type": "stream",
     "text": [
      "  (0, 0)\t483.0\n",
      "  (0, 1)\t454.0\n",
      "  (0, 2)\t513.0\n",
      "  (0, 3)\t495.0\n",
      "  (0, 4)\t523.0\n",
      "  (0, 5)\t469.0\n",
      "  (0, 6)\t453.0\n",
      "  (0, 7)\t477.0\n",
      "  (0, 8)\t506.0\n",
      "  (0, 9)\t479.0\n",
      "  (0, 10)\t470.0\n",
      "  (0, 11)\t510.0\n",
      "  (0, 12)\t463.0\n",
      "  (0, 13)\t423.0\n",
      "  (0, 14)\t511.0\n",
      "  (0, 15)\t500.0\n",
      "  (0, 16)\t494.0\n",
      "  (0, 17)\t493.0\n",
      "  (0, 18)\t472.0\n",
      "  (0, 19)\t477.0\n",
      "  (0, 20)\t497.0\n",
      "  (0, 21)\t503.0\n",
      "  (0, 22)\t474.0\n",
      "  (0, 23)\t472.0\n",
      "  (0, 24)\t483.0\n",
      "  :\t:\n",
      "  (599, 475)\t398.0\n",
      "  (599, 476)\t482.0\n",
      "  (599, 477)\t493.0\n",
      "  (599, 478)\t422.0\n",
      "  (599, 479)\t484.0\n",
      "  (599, 480)\t483.0\n",
      "  (599, 481)\t468.0\n",
      "  (599, 482)\t471.0\n",
      "  (599, 483)\t507.0\n",
      "  (599, 484)\t542.0\n",
      "  (599, 485)\t472.0\n",
      "  (599, 486)\t477.0\n",
      "  (599, 487)\t493.0\n",
      "  (599, 488)\t503.0\n",
      "  (599, 489)\t477.0\n",
      "  (599, 490)\t484.0\n",
      "  (599, 491)\t478.0\n",
      "  (599, 492)\t487.0\n",
      "  (599, 493)\t694.0\n",
      "  (599, 494)\t493.0\n",
      "  (599, 495)\t499.0\n",
      "  (599, 496)\t474.0\n",
      "  (599, 497)\t494.0\n",
      "  (599, 498)\t536.0\n",
      "  (599, 499)\t526.0\n",
      "[-1. -1. -1.  1. -1.  1. -1. -1. -1.  1.  1.  1. -1.  1.  1. -1. -1.  1.\n",
      " -1. -1. -1. -1. -1.  1.  1.  1.  1. -1. -1. -1. -1.  1.  1. -1.  1. -1.\n",
      "  1.  1.  1.  1.  1.  1.  1.  1. -1.  1.  1.  1. -1. -1.  1. -1. -1.  1.\n",
      "  1. -1.  1. -1. -1. -1.  1. -1.  1.  1.  1.  1. -1.  1. -1. -1.  1. -1.\n",
      "  1.  1.  1. -1.  1. -1.  1. -1.  1. -1. -1.  1.  1.  1.  1.  1.  1.  1.\n",
      " -1. -1. -1. -1.  1. -1. -1.  1.  1. -1. -1.  1. -1.  1. -1.  1. -1. -1.\n",
      "  1.  1.  1. -1.  1. -1. -1. -1.  1. -1.  1. -1. -1.  1.  1. -1. -1.  1.\n",
      " -1. -1.  1. -1.  1.  1. -1.  1. -1.  1. -1.  1. -1. -1. -1.  1.  1. -1.\n",
      " -1.  1.  1. -1. -1. -1.  1. -1.  1. -1. -1.  1.  1.  1.  1. -1.  1.  1.\n",
      " -1. -1. -1. -1.  1.  1. -1.  1.  1.  1. -1. -1. -1. -1.  1. -1.  1. -1.\n",
      "  1. -1.  1. -1. -1.  1. -1. -1. -1. -1.  1.  1. -1. -1. -1.  1. -1.  1.\n",
      " -1. -1. -1.  1.  1.  1. -1. -1.  1.  1.  1.  1. -1. -1.  1. -1. -1. -1.\n",
      "  1.  1. -1. -1.  1.  1. -1. -1.  1. -1. -1. -1. -1.  1. -1. -1.  1.  1.\n",
      "  1.  1. -1. -1. -1.  1. -1. -1.  1. -1. -1.  1.  1. -1. -1.  1.  1. -1.\n",
      " -1. -1. -1.  1. -1. -1.  1.  1.  1.  1.  1. -1.  1.  1. -1. -1.  1. -1.\n",
      "  1.  1. -1. -1. -1. -1.  1.  1.  1.  1.  1. -1.  1.  1.  1. -1. -1.  1.\n",
      "  1. -1. -1. -1.  1.  1.  1.  1. -1. -1.  1.  1. -1. -1.  1.  1.  1.  1.\n",
      " -1.  1.  1. -1. -1.  1. -1.  1.  1. -1. -1. -1.  1.  1. -1. -1. -1.  1.\n",
      " -1. -1. -1. -1.  1. -1.  1.  1.  1.  1. -1.  1. -1. -1. -1.  1. -1. -1.\n",
      "  1. -1.  1. -1. -1.  1.  1. -1. -1.  1. -1. -1. -1. -1.  1.  1.  1. -1.\n",
      " -1. -1.  1.  1. -1. -1. -1. -1.  1.  1. -1. -1. -1. -1.  1.  1.  1.  1.\n",
      " -1.  1. -1.  1.  1.  1.  1.  1. -1.  1. -1. -1.  1. -1.  1.  1.  1.  1.\n",
      "  1. -1. -1. -1.  1. -1. -1.  1.  1. -1. -1.  1.  1. -1. -1.  1.  1. -1.\n",
      " -1.  1.  1.  1.  1.  1.  1. -1.  1. -1.  1.  1. -1. -1.  1. -1. -1.  1.\n",
      " -1. -1.  1.  1.  1.  1. -1. -1.  1. -1.  1. -1. -1.  1.  1.  1. -1. -1.\n",
      "  1.  1.  1. -1. -1. -1. -1. -1.  1. -1. -1. -1. -1. -1.  1. -1. -1.  1.\n",
      "  1. -1.  1. -1. -1. -1.  1.  1. -1.  1. -1.  1.  1.  1.  1.  1. -1.  1.\n",
      "  1. -1. -1.  1. -1. -1.  1.  1.  1.  1.  1.  1.  1. -1.  1.  1. -1. -1.\n",
      "  1.  1.  1. -1.  1.  1. -1. -1. -1.  1. -1. -1. -1. -1. -1.  1.  1.  1.\n",
      "  1. -1.  1. -1.  1. -1.  1. -1. -1.  1.  1.  1.  1. -1.  1.  1. -1. -1.\n",
      " -1. -1. -1. -1. -1.  1. -1.  1.  1. -1. -1. -1.  1. -1.  1. -1.  1.  1.\n",
      " -1.  1.  1. -1.  1.  1. -1. -1.  1. -1. -1.  1.  1.  1. -1. -1. -1. -1.\n",
      "  1.  1.  1. -1. -1.  1. -1. -1.  1.  1.  1.  1.  1. -1. -1.  1. -1. -1.\n",
      "  1.  1.  1.  1.  1. -1.]\n"
     ]
    }
   ],
   "source": [
    "X_test, y_test = get_data(\"madelon.t\")\n",
    "print(X_test)\n",
    "print(y_test)"
   ]
  },
  {
   "cell_type": "code",
   "execution_count": 86,
   "metadata": {},
   "outputs": [
    {
     "data": {
      "text/plain": [
       "1171"
      ]
     },
     "execution_count": 86,
     "metadata": {},
     "output_type": "execute_result"
    }
   ],
   "source": [
    "madelon_train = pd.read_csv(\"madelon_train.data\", header=None, sep=\" \")\n",
    "madelon_train = madelon_train.drop(500, axis=1)\n",
    "X_train = madelon_train.values\n",
    "len(X_train)"
   ]
  },
  {
   "cell_type": "code",
   "execution_count": 85,
   "metadata": {},
   "outputs": [
    {
     "data": {
      "text/plain": [
       "1999"
      ]
     },
     "execution_count": 85,
     "metadata": {},
     "output_type": "execute_result"
    }
   ],
   "source": [
    "y_train = pd.read_csv(\"madelon_train.labels\", squeeze = True)\n",
    "y_train = np.array(y_train)\n",
    "len(y_train)"
   ]
  },
  {
   "cell_type": "code",
   "execution_count": 67,
   "metadata": {},
   "outputs": [
    {
     "data": {
      "text/plain": [
       "array([[483., 454., 513., ..., 498., 523., 510.],\n",
       "       [485., 508., 493., ..., 495., 548., 477.],\n",
       "       [483., 521., 507., ..., 465., 508., 503.],\n",
       "       ...,\n",
       "       [479., 464., 502., ..., 477., 512., 474.],\n",
       "       [493., 487., 489., ..., 463., 504., 451.],\n",
       "       [483., 525., 482., ...,  nan,  nan,  nan]])"
      ]
     },
     "execution_count": 67,
     "metadata": {},
     "output_type": "execute_result"
    }
   ],
   "source": [
    "madelon_valid = pd.read_csv(\"madelon_valid.data\", header=None, sep=\" \")\n",
    "madelon_valid = madelon_valid.drop(500, axis=1)\n",
    "X_valid = madelon_valid.values\n",
    "X_valid"
   ]
  },
  {
   "cell_type": "code",
   "execution_count": 79,
   "metadata": {},
   "outputs": [
    {
     "data": {
      "text/plain": [
       "-1"
      ]
     },
     "execution_count": 79,
     "metadata": {},
     "output_type": "execute_result"
    }
   ],
   "source": [
    "y_valid = pd.read_csv(\"madelon_valid.labels\", squeeze=True)\n",
    "y_valid = np.array(y_valid)\n",
    "y_valid[5]"
   ]
  },
  {
   "cell_type": "markdown",
   "metadata": {},
   "source": [
    "## Applying passive agressive online learning"
   ]
  },
  {
   "cell_type": "code",
   "execution_count": 25,
   "metadata": {},
   "outputs": [],
   "source": [
    "from sklearn.metrics import accuracy_score\n",
    "from passive_agressive_classic_update import passive_agressive_online"
   ]
  },
  {
   "cell_type": "markdown",
   "metadata": {},
   "source": [
    "### Classic update"
   ]
  },
  {
   "cell_type": "code",
   "execution_count": 78,
   "metadata": {},
   "outputs": [
    {
     "data": {
      "text/plain": [
       "array([nan, nan, nan, nan, nan, nan, nan, nan, nan, nan, nan, nan, nan,\n",
       "       nan, nan, nan, nan, nan, nan, nan, nan, nan, nan, nan, nan, nan,\n",
       "       nan, nan, nan, nan, nan, nan, nan, nan, nan, nan, nan, nan, nan,\n",
       "       nan, nan, nan, nan, nan, nan, nan, nan, nan, nan, nan, nan, nan,\n",
       "       nan, nan, nan, nan, nan, nan, nan, nan, nan, nan, nan, nan, nan,\n",
       "       nan, nan, nan, nan, nan, nan, nan, nan, nan, nan, nan, nan, nan,\n",
       "       nan, nan, nan, nan, nan, nan, nan, nan, nan, nan, nan, nan, nan,\n",
       "       nan, nan, nan, nan, nan, nan, nan, nan, nan, nan, nan, nan, nan,\n",
       "       nan, nan, nan, nan, nan, nan, nan, nan, nan, nan, nan, nan, nan,\n",
       "       nan, nan, nan, nan, nan, nan, nan, nan, nan, nan, nan, nan, nan,\n",
       "       nan, nan, nan, nan, nan, nan, nan, nan, nan, nan, nan, nan, nan,\n",
       "       nan, nan, nan, nan, nan, nan, nan, nan, nan, nan, nan, nan, nan,\n",
       "       nan, nan, nan, nan, nan, nan, nan, nan, nan, nan, nan, nan, nan,\n",
       "       nan, nan, nan, nan, nan, nan, nan, nan, nan, nan, nan, nan, nan,\n",
       "       nan, nan, nan, nan, nan, nan, nan, nan, nan, nan, nan, nan, nan,\n",
       "       nan, nan, nan, nan, nan, nan, nan, nan, nan, nan, nan, nan, nan,\n",
       "       nan, nan, nan, nan, nan, nan, nan, nan, nan, nan, nan, nan, nan,\n",
       "       nan, nan, nan, nan, nan, nan, nan, nan, nan, nan, nan, nan, nan,\n",
       "       nan, nan, nan, nan, nan, nan, nan, nan, nan, nan, nan, nan, nan,\n",
       "       nan, nan, nan, nan, nan, nan, nan, nan, nan, nan, nan, nan, nan,\n",
       "       nan, nan, nan, nan, nan, nan, nan, nan, nan, nan, nan, nan, nan,\n",
       "       nan, nan, nan, nan, nan, nan, nan, nan, nan, nan, nan, nan, nan,\n",
       "       nan, nan, nan, nan, nan, nan, nan, nan, nan, nan, nan, nan, nan,\n",
       "       nan, nan, nan, nan, nan, nan, nan, nan, nan, nan, nan, nan, nan,\n",
       "       nan, nan, nan, nan, nan, nan, nan, nan, nan, nan, nan, nan, nan,\n",
       "       nan, nan, nan, nan, nan, nan, nan, nan, nan, nan, nan, nan, nan,\n",
       "       nan, nan, nan, nan, nan, nan, nan, nan, nan, nan, nan, nan, nan,\n",
       "       nan, nan, nan, nan, nan, nan, nan, nan, nan, nan, nan, nan, nan,\n",
       "       nan, nan, nan, nan, nan, nan, nan, nan, nan, nan, nan, nan, nan,\n",
       "       nan, nan, nan, nan, nan, nan, nan, nan, nan, nan, nan, nan, nan,\n",
       "       nan, nan, nan, nan, nan, nan, nan, nan, nan, nan, nan, nan, nan,\n",
       "       nan, nan, nan, nan, nan, nan, nan, nan, nan, nan, nan, nan, nan,\n",
       "       nan, nan, nan, nan, nan, nan, nan, nan, nan, nan, nan, nan, nan,\n",
       "       nan, nan, nan, nan, nan, nan, nan, nan, nan, nan, nan, nan, nan,\n",
       "       nan, nan, nan, nan, nan, nan, nan, nan, nan, nan, nan, nan, nan,\n",
       "       nan, nan, nan, nan, nan, nan, nan, nan, nan, nan, nan, nan, nan,\n",
       "       nan, nan, nan, nan, nan, nan, nan, nan, nan, nan, nan, nan, nan,\n",
       "       nan, nan, nan, nan, nan, nan, nan, nan, nan, nan, nan, nan, nan,\n",
       "       nan, nan, nan, nan, nan, nan])"
      ]
     },
     "execution_count": 78,
     "metadata": {},
     "output_type": "execute_result"
    }
   ],
   "source": [
    "w_classic = passive_agressive_online(X_train, y_train, impl=\"classic\")\n",
    "w_classic"
   ]
  },
  {
   "cell_type": "code",
   "execution_count": 38,
   "metadata": {},
   "outputs": [
    {
     "name": "stdout",
     "output_type": "stream",
     "text": [
      "94.23\n"
     ]
    }
   ],
   "source": [
    "# Accuracy on the training set\n",
    "predicted = np.sign(np.dot(X_train, w_classic))\n",
    "accuracy = accuracy_score(predicted, y_train)\n",
    "print(\"%.2f\" % (accuracy*100))"
   ]
  },
  {
   "cell_type": "markdown",
   "metadata": {},
   "source": [
    "The classic updata performs really well on the training set (94.23%). Let's look at the test set performance"
   ]
  },
  {
   "cell_type": "code",
   "execution_count": null,
   "metadata": {},
   "outputs": [],
   "source": []
  }
 ],
 "metadata": {
  "kernelspec": {
   "display_name": "Python 3",
   "language": "python",
   "name": "python3"
  },
  "language_info": {
   "codemirror_mode": {
    "name": "ipython",
    "version": 3
   },
   "file_extension": ".py",
   "mimetype": "text/x-python",
   "name": "python",
   "nbconvert_exporter": "python",
   "pygments_lexer": "ipython3",
   "version": "3.6.5"
  }
 },
 "nbformat": 4,
 "nbformat_minor": 2
}
